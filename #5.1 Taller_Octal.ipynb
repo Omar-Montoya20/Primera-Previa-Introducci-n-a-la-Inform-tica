{
  "nbformat": 4,
  "nbformat_minor": 0,
  "metadata": {
    "colab": {
      "name": "Taller Octal.ipynb",
      "provenance": [],
      "authorship_tag": "ABX9TyNzVro3C0xsNnyBynMiSxXg",
      "include_colab_link": true
    },
    "kernelspec": {
      "name": "python3",
      "display_name": "Python 3"
    },
    "language_info": {
      "name": "python"
    }
  },
  "cells": [
    {
      "cell_type": "markdown",
      "metadata": {
        "id": "view-in-github",
        "colab_type": "text"
      },
      "source": [
        "<a href=\"https://colab.research.google.com/github/Omar-Montoya20/Primera-Previa-Introducci-n-a-la-Inform-tica/blob/main/%235.1%20Taller_Octal.ipynb\" target=\"_parent\"><img src=\"https://colab.research.google.com/assets/colab-badge.svg\" alt=\"Open In Colab\"/></a>"
      ]
    },
    {
      "cell_type": "markdown",
      "metadata": {
        "id": "SIK4s5vC8c4d"
      },
      "source": [
        "##Yohalinson Omar Montoya Plaza"
      ]
    },
    {
      "cell_type": "code",
      "metadata": {
        "id": "m0kUqdGU8Nna"
      },
      "source": [
        "# 1. Crear la clase Octal\n",
        "\n",
        "class Octal:\n",
        "  pass\n",
        "\n",
        "a = Octal()"
      ],
      "execution_count": null,
      "outputs": []
    },
    {
      "cell_type": "code",
      "metadata": {
        "colab": {
          "base_uri": "https://localhost:8080/"
        },
        "id": "3xEllkr79IAh",
        "outputId": "177c0e49-ca2d-455a-f3eb-d07788dbe50c"
      },
      "source": [
        "# 2. Crear un \"constructor\" de objetos, inicialmente con un mensaje\n",
        "\n",
        "class Octal:\n",
        "  def __init__ (self):\n",
        "    print(\"Este es el constructor\")\n",
        "\n",
        "a = Octal()"
      ],
      "execution_count": null,
      "outputs": [
        {
          "output_type": "stream",
          "name": "stdout",
          "text": [
            "Este es el constructor\n"
          ]
        }
      ]
    },
    {
      "cell_type": "code",
      "metadata": {
        "colab": {
          "base_uri": "https://localhost:8080/"
        },
        "id": "cRJg7NyF9kSR",
        "outputId": "1029c84e-77de-4244-c467-62e79ae96fe0"
      },
      "source": [
        "# 3. Modificar el \"constructor\" para que permita recibir el octal como una cadena\n",
        "\n",
        "class Octal:\n",
        "  def __init__ (self, dato):\n",
        "    self.dato = dato\n",
        "\n",
        "a = Octal(\"754013\")\n",
        "print(a.dato)"
      ],
      "execution_count": null,
      "outputs": [
        {
          "output_type": "stream",
          "name": "stdout",
          "text": [
            "754013\n"
          ]
        }
      ]
    },
    {
      "cell_type": "code",
      "metadata": {
        "colab": {
          "base_uri": "https://localhost:8080/"
        },
        "id": "OrnhUtpj-vSz",
        "outputId": "f7ffe477-7dc5-4b2a-d119-b6e2f64bd865"
      },
      "source": [
        "# 4. Crear un método (función) cuya tarea es mostrar en pantalla el contenido del objeto\n",
        "\n",
        "class Octal:\n",
        "  def __init__ (self, dato):\n",
        "    self.dato = dato\n",
        "  def string(self):\n",
        "      print(self.dato)\n",
        "\n",
        "a = Octal(\"754013\")\n",
        "a.string()\n"
      ],
      "execution_count": null,
      "outputs": [
        {
          "output_type": "stream",
          "name": "stdout",
          "text": [
            "754013\n"
          ]
        }
      ]
    },
    {
      "cell_type": "code",
      "metadata": {
        "colab": {
          "base_uri": "https://localhost:8080/"
        },
        "id": "3bpVQtYL__vE",
        "outputId": "fe2d5b56-0d70-4e2f-95ec-5eec1ddbfbcb"
      },
      "source": [
        "# 5. Convertir la cadena que almacena el Octal, en una lista\n",
        "\n",
        "class Octal:\n",
        "  lista_octal = []\n",
        "\n",
        "  def __init__ (self, cadena_octal):\n",
        "    self.cadena_octal = cadena_octal\n",
        "    self.lista_octal = list(self.cadena_octal)\n",
        "  def string(self):\n",
        "    print(self.cadena_octal)\n",
        "    print(self.lista_octal)\n",
        "\n",
        "a = Octal(\"754013\")\n",
        "a.string()"
      ],
      "execution_count": null,
      "outputs": [
        {
          "output_type": "stream",
          "name": "stdout",
          "text": [
            "754013\n",
            "['7', '5', '4', '0', '1', '3']\n"
          ]
        }
      ]
    },
    {
      "cell_type": "code",
      "metadata": {
        "colab": {
          "base_uri": "https://localhost:8080/"
        },
        "id": "ZY60GPjbBl97",
        "outputId": "7d9f2d36-4054-4818-f618-2ea868026624"
      },
      "source": [
        "# 6. Convertir la lista de strings en una  lista de enteros\n",
        "\n",
        "class Octal:\n",
        "  lista_octal = []\n",
        "  def __init__ (self, cadena_octal):\n",
        "    self.cadena_octal = cadena_octal\n",
        "    self.lista_octal = list(self.cadena_octal)\n",
        "\n",
        "    i = 0\n",
        "    for dato in self.lista_octal:\n",
        "      self.lista_octal[i] = int(dato)\n",
        "      i = i + 1\n",
        "\n",
        "  def string(self):\n",
        "    print(self.cadena_octal)\n",
        "    print(self.lista_octal)\n",
        "\n",
        "a = Octal(\"745013\")\n",
        "a.string()"
      ],
      "execution_count": null,
      "outputs": [
        {
          "output_type": "stream",
          "name": "stdout",
          "text": [
            "745013\n",
            "[7, 4, 5, 0, 1, 3]\n"
          ]
        }
      ]
    },
    {
      "cell_type": "code",
      "metadata": {
        "colab": {
          "base_uri": "https://localhost:8080/"
        },
        "id": "m1Nf7lQVDbnF",
        "outputId": "2d7b4ed6-3702-4d74-df81-dd2841b5fae7"
      },
      "source": [
        "# 7. INVERTIR la lista para que coincida con los números octales de la matemática\n",
        "\n",
        "class Octal:\n",
        "  lista_octal = []\n",
        "\n",
        "  def __init__ (self, cadena_octal):\n",
        "    self.cadena_octal = cadena_octal\n",
        "    self.lista_octal = list(self.cadena_octal)\n",
        "\n",
        "    i = 0\n",
        "    for dato in self.lista_octal:\n",
        "      self.lista_octal[i] = int(dato)\n",
        "      i = i + 1\n",
        "\n",
        "    self.lista_octal = list(reversed(self.lista_octal))\n",
        "\n",
        "  def string(self):\n",
        "    print(self.cadena_octal)\n",
        "    print(self.lista_octal)\n",
        "\n",
        "a = Octal( \"745013\" )\n",
        "a.string()\n"
      ],
      "execution_count": null,
      "outputs": [
        {
          "output_type": "stream",
          "name": "stdout",
          "text": [
            "745013\n",
            "[3, 1, 0, 5, 4, 7]\n"
          ]
        }
      ]
    },
    {
      "cell_type": "code",
      "metadata": {
        "colab": {
          "base_uri": "https://localhost:8080/"
        },
        "id": "rAlJ3Ht-FIXg",
        "outputId": "72bd5dbf-9b12-4000-9740-36625abb0726"
      },
      "source": [
        "# 8. Crear una función para encontrar el valor decimal del octal\n",
        "\n",
        "class Octal:\n",
        "  base = 8\n",
        "  lista_octal = []\n",
        "\n",
        "  def __init__ ( self, cadena_octal ):\n",
        "    self.cadena_octal = cadena_octal\n",
        "    self.lista_octal = list( self.cadena_octal )\n",
        "\n",
        "    i = 0\n",
        "    for dato in self.lista_octal:\n",
        "      self.lista_octal[i] = int(dato)\n",
        "      i = i + 1\n",
        "\n",
        "    self.lista_octal = list(reversed(self.lista_octal))\n",
        "\n",
        "  def decimal( self ):\n",
        "     número_decimal = 0\n",
        "     i = 0\n",
        "     for dato in self.lista_octal:\n",
        "       número_decimal += self.base**i * self.lista_octal[i]\n",
        "       i = i + 1\n",
        "     return número_decimal\n",
        "\n",
        "  def string(self):\n",
        "      print(self.cadena_octal)\n",
        "      print(self.lista_octal)\n",
        "\n",
        "a = Octal( \"745013\" ) \n",
        "a.string()\n",
        "print( a.decimal() ) \n",
        "\n",
        "\n"
      ],
      "execution_count": null,
      "outputs": [
        {
          "output_type": "stream",
          "name": "stdout",
          "text": [
            "745013\n",
            "[3, 1, 0, 5, 4, 7]\n",
            "248331\n"
          ]
        }
      ]
    }
  ]
}